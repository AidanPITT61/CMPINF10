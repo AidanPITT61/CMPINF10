I committed a program that prompts a user to put in their age and it prints out what their age is
